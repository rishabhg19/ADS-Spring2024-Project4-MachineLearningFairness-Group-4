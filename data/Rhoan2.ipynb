{
  "nbformat": 4,
  "nbformat_minor": 0,
  "metadata": {
    "colab": {
      "provenance": []
    },
    "kernelspec": {
      "name": "python3",
      "display_name": "Python 3"
    },
    "language_info": {
      "name": "python"
    }
  },
  "cells": [
    {
      "cell_type": "code",
      "execution_count": 1,
      "metadata": {
        "id": "VMhNQRvIuFJP"
      },
      "outputs": [],
      "source": [
        "import pandas as pd\n",
        "import numpy as np\n",
        "from sklearn.model_selection import train_test_split\n",
        "from sklearn.linear_model import LogisticRegression\n",
        "from sklearn.metrics import accuracy_score, log_loss\n",
        "from sklearn.metrics import mutual_info_score\n",
        "import tensorflow as tf"
      ]
    },
    {
      "cell_type": "markdown",
      "source": [
        "Preprocess the data by encoding categorical variables and removing null values."
      ],
      "metadata": {
        "id": "4TZQfQxQuSV3"
      }
    },
    {
      "cell_type": "code",
      "source": [
        "df = pd.read_csv('https://raw.githubusercontent.com/propublica/compas-analysis/master/compas-scores-two-years.csv')\n",
        "df['score_text'] = df['score_text'].replace({'High': 2, 'Medium': 1, 'Low': 0})\n",
        "df['score_text'] = df['score_text'].fillna(0)\n",
        "df['v_score_text'] = df['v_score_text'].replace({'High': 2, 'Medium': 1, 'Low': 0})\n",
        "df['v_score_text'] = df['v_score_text'].fillna(0)\n",
        "df = df[df['race'].isin(['Caucasian', 'African-American'])]\n",
        "df['race'] = df['race'].replace({'Caucasian': 1, 'African-American': 0})"
      ],
      "metadata": {
        "id": "oxUxQXN2uI3z"
      },
      "execution_count": 2,
      "outputs": []
    },
    {
      "cell_type": "markdown",
      "source": [
        "Make a Logistic Regression model that predicts two_year_recidivism without any prejudice remover. Notice that without any prejudice removal, the model predicts recidivism more accurately for Caucasians compared to African Americans."
      ],
      "metadata": {
        "id": "fZGq3YxDuTXa"
      }
    },
    {
      "cell_type": "code",
      "source": [
        "X = df[['id', 'age', 'juv_fel_count', 'juv_misd_count', 'is_recid', 'decile_score','juv_other_count', 'priors_count', 'v_score_text', 'is_violent_recid', 'race']].copy()\n",
        "X = X.fillna(0)\n",
        "Y = df['two_year_recid'].copy()\n",
        "unfair_model = LogisticRegression(max_iter=1000)\n",
        "unfair_model.fit(X, Y)\n",
        "\n",
        "priv = X[X['race'] == 1]\n",
        "unpriv = X[X['race'] == 0]\n",
        "\n",
        "priv_pred = unfair_model.predict(priv)\n",
        "unpriv_pred = unfair_model.predict(unpriv)\n",
        "\n",
        "accuracy_priv = accuracy_score(Y[X['race'] == 1], priv_pred)\n",
        "accuracy_unpriv = accuracy_score(Y[X['race'] == 0], unpriv_pred)\n",
        "\n",
        "print(\"Accuracy for privileged group (race == 1):\", accuracy_priv)\n",
        "print(\"Accuracy for unprivileged group (race == 0):\", accuracy_unpriv)"
      ],
      "metadata": {
        "colab": {
          "base_uri": "https://localhost:8080/"
        },
        "id": "LMK9LPS1uOZy",
        "outputId": "83074765-9454-4589-d60b-d5570620889b"
      },
      "execution_count": 3,
      "outputs": [
        {
          "output_type": "stream",
          "name": "stdout",
          "text": [
            "Accuracy for privileged group (race == 1): 0.9759576202118989\n",
            "Accuracy for unprivileged group (race == 0): 0.963474025974026\n"
          ]
        }
      ]
    },
    {
      "cell_type": "markdown",
      "source": [
        "Without the is_recid feature, the accuracies from the Logistric Regression model for the privileged and unprivileged groups both decrease significantly, while the difference between the two accuracies remains almost the same."
      ],
      "metadata": {
        "id": "sSiLYTCauXIe"
      }
    },
    {
      "cell_type": "code",
      "source": [
        "X = df[['id', 'age', 'juv_fel_count', 'juv_misd_count', 'decile_score','juv_other_count', 'priors_count', 'v_score_text', 'is_violent_recid', 'race']].copy()\n",
        "X = X.fillna(0)\n",
        "Y = df['two_year_recid'].copy()\n",
        "unfair_model = LogisticRegression(max_iter=1000)\n",
        "unfair_model.fit(X, Y)\n",
        "priv = X[X['race'] == 1]\n",
        "unpriv = X[X['race'] == 0]\n",
        "\n",
        "priv_pred = unfair_model.predict(priv)\n",
        "unpriv_pred = unfair_model.predict(unpriv)\n",
        "\n",
        "accuracy_priv = accuracy_score(Y[X['race'] == 1], priv_pred)\n",
        "accuracy_unpriv = accuracy_score(Y[X['race'] == 0], unpriv_pred)\n",
        "\n",
        "print(\"Accuracy for privileged group (race == 1):\", accuracy_priv)\n",
        "print(\"Accuracy for unprivileged group (race == 0):\", accuracy_unpriv)"
      ],
      "metadata": {
        "colab": {
          "base_uri": "https://localhost:8080/"
        },
        "id": "uI7hHSGeuQt0",
        "outputId": "70c5baae-ecbe-44f4-981b-2ce69021a25e"
      },
      "execution_count": 4,
      "outputs": [
        {
          "output_type": "stream",
          "name": "stdout",
          "text": [
            "Accuracy for privileged group (race == 1): 0.7224938875305623\n",
            "Accuracy for unprivileged group (race == 0): 0.7126623376623377\n"
          ]
        }
      ]
    },
    {
      "cell_type": "markdown",
      "source": [
        "\n",
        "Store the class Y, the non-sensitive features X, and the sensitive feature S separately."
      ],
      "metadata": {
        "id": "KN2BMVh4uayY"
      }
    },
    {
      "cell_type": "code",
      "source": [
        "non_sensitive_features = ['id', 'age', 'juv_fel_count', 'is_recid','juv_other_count', 'priors_count', 'v_score_text', 'is_violent_recid']\n",
        "X = df[non_sensitive_features].copy()\n",
        "Y = df['two_year_recid'].copy()\n",
        "S = df['race'].copy()\n",
        "print(X)\n",
        "print(Y)\n",
        "print(S)"
      ],
      "metadata": {
        "colab": {
          "base_uri": "https://localhost:8080/"
        },
        "id": "WF-3fdROuZJ4",
        "outputId": "f9a79c1a-d810-4f1d-e24a-e6dbabb71b9f"
      },
      "execution_count": 5,
      "outputs": [
        {
          "output_type": "stream",
          "name": "stdout",
          "text": [
            "         id  age  juv_fel_count  is_recid  juv_other_count  priors_count  \\\n",
            "1         3   34              0         1                0             0   \n",
            "2         4   24              0         1                1             4   \n",
            "3         5   23              0         0                0             1   \n",
            "6         8   41              0         1                0            14   \n",
            "8        10   39              0         0                0             0   \n",
            "...     ...  ...            ...       ...              ...           ...   \n",
            "7207  10994   30              0         1                0             0   \n",
            "7208  10995   20              0         0                0             0   \n",
            "7209  10996   23              0         0                0             0   \n",
            "7210  10997   23              0         0                0             0   \n",
            "7212  11000   33              0         0                0             3   \n",
            "\n",
            "      v_score_text  is_violent_recid  \n",
            "1                0                 1  \n",
            "2                0                 0  \n",
            "3                1                 0  \n",
            "6                0                 0  \n",
            "8                0                 0  \n",
            "...            ...               ...  \n",
            "7207             0                 0  \n",
            "7208             2                 0  \n",
            "7209             1                 0  \n",
            "7210             1                 0  \n",
            "7212             0                 0  \n",
            "\n",
            "[6150 rows x 8 columns]\n",
            "1       1\n",
            "2       1\n",
            "3       0\n",
            "6       1\n",
            "8       0\n",
            "       ..\n",
            "7207    1\n",
            "7208    0\n",
            "7209    0\n",
            "7210    0\n",
            "7212    0\n",
            "Name: two_year_recid, Length: 6150, dtype: int64\n",
            "1       0\n",
            "2       0\n",
            "3       0\n",
            "6       1\n",
            "8       1\n",
            "       ..\n",
            "7207    0\n",
            "7208    0\n",
            "7209    0\n",
            "7210    0\n",
            "7212    0\n",
            "Name: race, Length: 6150, dtype: int64\n"
          ]
        }
      ]
    },
    {
      "cell_type": "code",
      "source": [
        "def PRLOSS(unpriv, priv, learning_rate):\n",
        "    unpriv_float = tf.cast(unpriv, dtype=tf.float32)\n",
        "    priv_float = tf.cast(priv, dtype=tf.float32)\n",
        "\n",
        "    n_unpriv = tf.cast(tf.shape(unpriv_float)[0], dtype=tf.float32)\n",
        "    n_priv = tf.cast(tf.shape(priv_float)[0], dtype=tf.float32)\n",
        "\n",
        "    n_unpriv = tf.maximum(n_unpriv, 1.0)\n",
        "    n_priv = tf.maximum(n_priv, 1.0)\n",
        "\n",
        "    Dxisi = tf.stack([n_priv, n_unpriv], axis=0)\n",
        "\n",
        "    y_pred_priv = tf.reduce_sum(priv_float)\n",
        "    y_pred_unpriv = tf.reduce_sum(unpriv_float)\n",
        "\n",
        "    P_ys_stacked = tf.stack([y_pred_priv, y_pred_unpriv], axis=0)\n",
        "    P_ys = P_ys_stacked / Dxisi\n",
        "\n",
        "    P = tf.concat([unpriv_float, priv_float], axis=0)\n",
        "\n",
        "    P_sum = tf.reduce_sum(P)\n",
        "    total_samples = tf.cast(tf.size(unpriv_float) + tf.size(priv_float), dtype=tf.float32)\n",
        "    P_y = P_sum / total_samples\n",
        "\n",
        "    P_y = tf.maximum(P_y, 1e-12)\n",
        "\n",
        "    log_P_ys_1 = tf.math.log(P_ys[1])\n",
        "    log_P_y = tf.math.log(P_y)\n",
        "    P_s1y1 = log_P_ys_1 - log_P_y\n",
        "\n",
        "    log_1_minus_P_ys_1 = tf.math.log(1 - P_ys[1])\n",
        "    log_1_minus_P_y = tf.math.log(1 - P_y)\n",
        "    P_s1y0 = log_1_minus_P_ys_1 - log_1_minus_P_y\n",
        "\n",
        "    log_P_ys_0 = tf.math.log(P_ys[0])\n",
        "    log_P_y = tf.math.log(P_y)\n",
        "    P_s0y1 = log_P_ys_0 - log_P_y\n",
        "\n",
        "    log_1_minus_P_ys_0 = tf.math.log(1 - P_ys[0])\n",
        "    log_1_minus_P_y = tf.math.log(1 - P_y)\n",
        "    P_s0y0 = log_1_minus_P_ys_0 - log_1_minus_P_y\n",
        "\n",
        "    P_s1y1 = tf.reshape(P_s1y1, [-1])\n",
        "    P_s1y0 = tf.reshape(P_s1y0, [-1])\n",
        "    P_s0y1 = tf.reshape(P_s0y1, [-1])\n",
        "    P_s0y0 = tf.reshape(P_s0y0, [-1])\n",
        "\n",
        "    PI_s1y1 = unpriv_float * P_s1y1\n",
        "    PI_s1y0 = (1 - unpriv_float) * P_s1y0\n",
        "    PI_s0y1 = priv_float * P_s0y1\n",
        "    PI_s0y0 = (1 - priv_float) * P_s0y0\n",
        "\n",
        "    PI = tf.reduce_sum(PI_s1y1) + tf.reduce_sum(PI_s1y0) + tf.reduce_sum(PI_s0y1) + tf.reduce_sum(PI_s0y0)\n",
        "\n",
        "    return learning_rate * PI\n",
        "\n",
        "\n",
        "X_train, X_test, Y_train, Y_test = train_test_split(X,Y, test_size=0.1, random_state=42)\n",
        "\n",
        "# In Rishabh's code the loss and val_loss were NaN during training,\n",
        "# so I checked for NaN or infinite values in the data (to ensure data integrity)\n",
        "print(\"NaN values in X_train:\", np.any(np.isnan(X_train)))\n",
        "print(\"NaN values in X_test:\", np.any(np.isnan(X_test)))\n",
        "print(\"NaN values in Y_train:\", np.any(np.isnan(Y_train)))\n",
        "print(\"NaN values in Y_test:\", np.any(np.isnan(Y_test)))\n",
        "\n",
        "# Normalize the input features -> zero mean and unit variance\n",
        "X_train_normalized = (X_train - X_train.mean(axis=0)) / X_train.std(axis=0)\n",
        "X_test_normalized = (X_test - X_test.mean(axis=0)) / X_test.std(axis=0)\n",
        "\n",
        "\n",
        "def prediction_model(input_shape):\n",
        "    model = tf.keras.Sequential([\n",
        "        tf.keras.layers.Dense(1, activation='sigmoid', input_shape=(input_shape,))\n",
        "    ])\n",
        "    return model\n",
        "\n",
        "# Compile the model with the custom loss function\n",
        "model = prediction_model(X_train.shape[1])\n",
        "model.compile(optimizer='adam', loss=lambda y_true, y_pred: PRLOSS(y_true, y_pred, learning_rate=0.1), metrics = ['accuracy'])\n",
        "\n",
        "# Train the model with normalized data\n",
        "model.fit(X_train_normalized, Y_train, epochs=10, batch_size=32, validation_data=(X_test_normalized[:50], Y_test[:50]))"
      ],
      "metadata": {
        "colab": {
          "base_uri": "https://localhost:8080/"
        },
        "id": "APnTOTFmuchg",
        "outputId": "a549e9c1-ac2f-49bf-8426-1cc66c37c1fb"
      },
      "execution_count": 6,
      "outputs": [
        {
          "output_type": "stream",
          "name": "stdout",
          "text": [
            "NaN values in X_train: False\n",
            "NaN values in X_test: False\n",
            "NaN values in Y_train: False\n",
            "NaN values in Y_test: False\n",
            "Epoch 1/10\n",
            "173/173 [==============================] - 6s 12ms/step - loss: 0.0463 - accuracy: 0.2808 - val_loss: 0.0208 - val_accuracy: 0.3000\n",
            "Epoch 2/10\n",
            "173/173 [==============================] - 1s 6ms/step - loss: 0.0453 - accuracy: 0.3207 - val_loss: 0.0195 - val_accuracy: 0.3200\n",
            "Epoch 3/10\n",
            "173/173 [==============================] - 1s 6ms/step - loss: 0.0335 - accuracy: 0.3706 - val_loss: 0.0183 - val_accuracy: 0.3800\n",
            "Epoch 4/10\n",
            "173/173 [==============================] - 1s 6ms/step - loss: 0.0419 - accuracy: 0.4188 - val_loss: 0.0170 - val_accuracy: 0.4400\n",
            "Epoch 5/10\n",
            "173/173 [==============================] - 0s 3ms/step - loss: 0.0386 - accuracy: 0.4708 - val_loss: 0.0159 - val_accuracy: 0.5200\n",
            "Epoch 6/10\n",
            "173/173 [==============================] - 0s 3ms/step - loss: 0.0309 - accuracy: 0.5191 - val_loss: 0.0152 - val_accuracy: 0.5400\n",
            "Epoch 7/10\n",
            "173/173 [==============================] - 0s 3ms/step - loss: 0.0268 - accuracy: 0.5537 - val_loss: 0.0141 - val_accuracy: 0.6000\n",
            "Epoch 8/10\n",
            "173/173 [==============================] - 0s 3ms/step - loss: 0.0230 - accuracy: 0.5948 - val_loss: 0.0134 - val_accuracy: 0.6400\n",
            "Epoch 9/10\n",
            "173/173 [==============================] - 0s 3ms/step - loss: 0.0235 - accuracy: 0.6211 - val_loss: 0.0125 - val_accuracy: 0.6400\n",
            "Epoch 10/10\n",
            "173/173 [==============================] - 0s 2ms/step - loss: 0.0241 - accuracy: 0.6600 - val_loss: 0.0115 - val_accuracy: 0.6800\n"
          ]
        },
        {
          "output_type": "execute_result",
          "data": {
            "text/plain": [
              "<keras.src.callbacks.History at 0x7a7f16607d60>"
            ]
          },
          "metadata": {},
          "execution_count": 6
        }
      ]
    },
    {
      "cell_type": "code",
      "source": [
        "X_test_subset = X_test[non_sensitive_features].copy()\n",
        "X_test_subset_normalized = (X_test_subset - X_train[non_sensitive_features].mean(axis=0)) / X_train[non_sensitive_features].std(axis=0)\n",
        "\n",
        "fair_predictions = model.predict(X_test_subset_normalized)\n",
        "fair_predictions = (fair_predictions > 0.5).astype(int)\n",
        "\n",
        "# Accuracy of fair model\n",
        "fair_accuracy = accuracy_score(Y_test, fair_predictions)\n",
        "\n",
        "print(\"Accuracy of fair model:\", fair_accuracy)\n"
      ],
      "metadata": {
        "colab": {
          "base_uri": "https://localhost:8080/"
        },
        "id": "4imYWYcpvaIy",
        "outputId": "7b644a40-2dd1-4082-f14a-a746c5f2c82c"
      },
      "execution_count": 9,
      "outputs": [
        {
          "output_type": "stream",
          "name": "stdout",
          "text": [
            "20/20 [==============================] - 0s 4ms/step\n",
            "Accuracy of fair model: 0.6813008130081301\n"
          ]
        }
      ]
    },
    {
      "cell_type": "code",
      "source": [
        "print(X_test.columns)\n"
      ],
      "metadata": {
        "colab": {
          "base_uri": "https://localhost:8080/"
        },
        "id": "-Y_oAzjJwtHD",
        "outputId": "7574765f-4ae7-4c46-ed1e-e13c5a49f106"
      },
      "execution_count": 16,
      "outputs": [
        {
          "output_type": "stream",
          "name": "stdout",
          "text": [
            "Index(['id', 'age', 'juv_fel_count', 'is_recid', 'juv_other_count',\n",
            "       'priors_count', 'v_score_text', 'is_violent_recid'],\n",
            "      dtype='object')\n"
          ]
        }
      ]
    },
    {
      "cell_type": "code",
      "source": [
        "placeholder_values = pd.DataFrame(np.zeros((len(X_test), 3)), columns=['decile_score', 'juv_misd_count', 'race'])\n",
        "\n",
        "X_test_subset = pd.concat([X_test[['id', 'age', 'juv_fel_count', 'is_recid', 'juv_other_count', 'priors_count', 'v_score_text', 'is_violent_recid']], placeholder_values], axis=1)\n",
        "X_test_subset_normalized = (X_test_subset - X_train[['id', 'age', 'juv_fel_count', 'is_recid', 'juv_other_count', 'priors_count', 'v_score_text', 'is_violent_recid', 'decile_score', 'juv_misd_count', 'race']].mean(axis=0)) / X_train[['id', 'age', 'juv_fel_count', 'is_recid', 'juv_other_count', 'priors_count', 'v_score_text', 'is_violent_recid', 'decile_score', 'juv_misd_count', 'race']].std(axis=0)\n",
        "\n",
        "# Predictions using the unfair model (Logistic Regression)\n",
        "unfair_predictions = unfair_model.predict(X_test_subset_normalized)\n",
        "\n",
        "# Accuracy of unfair model\n",
        "unfair_accuracy = accuracy_score(Y_test, unfair_predictions)\n",
        "\n",
        "print(\"Accuracy of unfair model:\", unfair_accuracy)\n"
      ],
      "metadata": {
        "colab": {
          "base_uri": "https://localhost:8080/",
          "height": 391
        },
        "id": "zSHPLicawtBB",
        "outputId": "fad8a4c0-4587-4b43-8745-c89b6f2a9dbe"
      },
      "execution_count": 18,
      "outputs": [
        {
          "output_type": "error",
          "ename": "KeyError",
          "evalue": "\"['decile_score', 'juv_misd_count', 'race'] not in index\"",
          "traceback": [
            "\u001b[0;31m---------------------------------------------------------------------------\u001b[0m",
            "\u001b[0;31mKeyError\u001b[0m                                  Traceback (most recent call last)",
            "\u001b[0;32m<ipython-input-18-81bd89f8ac16>\u001b[0m in \u001b[0;36m<cell line: 8>\u001b[0;34m()\u001b[0m\n\u001b[1;32m      6\u001b[0m \u001b[0;34m\u001b[0m\u001b[0m\n\u001b[1;32m      7\u001b[0m \u001b[0;31m# Normalize the selected features\u001b[0m\u001b[0;34m\u001b[0m\u001b[0;34m\u001b[0m\u001b[0m\n\u001b[0;32m----> 8\u001b[0;31m \u001b[0mX_test_subset_normalized\u001b[0m \u001b[0;34m=\u001b[0m \u001b[0;34m(\u001b[0m\u001b[0mX_test_subset\u001b[0m \u001b[0;34m-\u001b[0m \u001b[0mX_train\u001b[0m\u001b[0;34m[\u001b[0m\u001b[0;34m[\u001b[0m\u001b[0;34m'id'\u001b[0m\u001b[0;34m,\u001b[0m \u001b[0;34m'age'\u001b[0m\u001b[0;34m,\u001b[0m \u001b[0;34m'juv_fel_count'\u001b[0m\u001b[0;34m,\u001b[0m \u001b[0;34m'is_recid'\u001b[0m\u001b[0;34m,\u001b[0m \u001b[0;34m'juv_other_count'\u001b[0m\u001b[0;34m,\u001b[0m \u001b[0;34m'priors_count'\u001b[0m\u001b[0;34m,\u001b[0m \u001b[0;34m'v_score_text'\u001b[0m\u001b[0;34m,\u001b[0m \u001b[0;34m'is_violent_recid'\u001b[0m\u001b[0;34m,\u001b[0m \u001b[0;34m'decile_score'\u001b[0m\u001b[0;34m,\u001b[0m \u001b[0;34m'juv_misd_count'\u001b[0m\u001b[0;34m,\u001b[0m \u001b[0;34m'race'\u001b[0m\u001b[0;34m]\u001b[0m\u001b[0;34m]\u001b[0m\u001b[0;34m.\u001b[0m\u001b[0mmean\u001b[0m\u001b[0;34m(\u001b[0m\u001b[0maxis\u001b[0m\u001b[0;34m=\u001b[0m\u001b[0;36m0\u001b[0m\u001b[0;34m)\u001b[0m\u001b[0;34m)\u001b[0m \u001b[0;34m/\u001b[0m \u001b[0mX_train\u001b[0m\u001b[0;34m[\u001b[0m\u001b[0;34m[\u001b[0m\u001b[0;34m'id'\u001b[0m\u001b[0;34m,\u001b[0m \u001b[0;34m'age'\u001b[0m\u001b[0;34m,\u001b[0m \u001b[0;34m'juv_fel_count'\u001b[0m\u001b[0;34m,\u001b[0m \u001b[0;34m'is_recid'\u001b[0m\u001b[0;34m,\u001b[0m \u001b[0;34m'juv_other_count'\u001b[0m\u001b[0;34m,\u001b[0m \u001b[0;34m'priors_count'\u001b[0m\u001b[0;34m,\u001b[0m \u001b[0;34m'v_score_text'\u001b[0m\u001b[0;34m,\u001b[0m \u001b[0;34m'is_violent_recid'\u001b[0m\u001b[0;34m,\u001b[0m \u001b[0;34m'decile_score'\u001b[0m\u001b[0;34m,\u001b[0m \u001b[0;34m'juv_misd_count'\u001b[0m\u001b[0;34m,\u001b[0m \u001b[0;34m'race'\u001b[0m\u001b[0;34m]\u001b[0m\u001b[0;34m]\u001b[0m\u001b[0;34m.\u001b[0m\u001b[0mstd\u001b[0m\u001b[0;34m(\u001b[0m\u001b[0maxis\u001b[0m\u001b[0;34m=\u001b[0m\u001b[0;36m0\u001b[0m\u001b[0;34m)\u001b[0m\u001b[0;34m\u001b[0m\u001b[0;34m\u001b[0m\u001b[0m\n\u001b[0m\u001b[1;32m      9\u001b[0m \u001b[0;34m\u001b[0m\u001b[0m\n\u001b[1;32m     10\u001b[0m \u001b[0;31m# Predictions using the unfair model (Logistic Regression)\u001b[0m\u001b[0;34m\u001b[0m\u001b[0;34m\u001b[0m\u001b[0m\n",
            "\u001b[0;32m/usr/local/lib/python3.10/dist-packages/pandas/core/frame.py\u001b[0m in \u001b[0;36m__getitem__\u001b[0;34m(self, key)\u001b[0m\n\u001b[1;32m   3765\u001b[0m             \u001b[0;32mif\u001b[0m \u001b[0mis_iterator\u001b[0m\u001b[0;34m(\u001b[0m\u001b[0mkey\u001b[0m\u001b[0;34m)\u001b[0m\u001b[0;34m:\u001b[0m\u001b[0;34m\u001b[0m\u001b[0;34m\u001b[0m\u001b[0m\n\u001b[1;32m   3766\u001b[0m                 \u001b[0mkey\u001b[0m \u001b[0;34m=\u001b[0m \u001b[0mlist\u001b[0m\u001b[0;34m(\u001b[0m\u001b[0mkey\u001b[0m\u001b[0;34m)\u001b[0m\u001b[0;34m\u001b[0m\u001b[0;34m\u001b[0m\u001b[0m\n\u001b[0;32m-> 3767\u001b[0;31m             \u001b[0mindexer\u001b[0m \u001b[0;34m=\u001b[0m \u001b[0mself\u001b[0m\u001b[0;34m.\u001b[0m\u001b[0mcolumns\u001b[0m\u001b[0;34m.\u001b[0m\u001b[0m_get_indexer_strict\u001b[0m\u001b[0;34m(\u001b[0m\u001b[0mkey\u001b[0m\u001b[0;34m,\u001b[0m \u001b[0;34m\"columns\"\u001b[0m\u001b[0;34m)\u001b[0m\u001b[0;34m[\u001b[0m\u001b[0;36m1\u001b[0m\u001b[0;34m]\u001b[0m\u001b[0;34m\u001b[0m\u001b[0;34m\u001b[0m\u001b[0m\n\u001b[0m\u001b[1;32m   3768\u001b[0m \u001b[0;34m\u001b[0m\u001b[0m\n\u001b[1;32m   3769\u001b[0m         \u001b[0;31m# take() does not accept boolean indexers\u001b[0m\u001b[0;34m\u001b[0m\u001b[0;34m\u001b[0m\u001b[0m\n",
            "\u001b[0;32m/usr/local/lib/python3.10/dist-packages/pandas/core/indexes/base.py\u001b[0m in \u001b[0;36m_get_indexer_strict\u001b[0;34m(self, key, axis_name)\u001b[0m\n\u001b[1;32m   5875\u001b[0m             \u001b[0mkeyarr\u001b[0m\u001b[0;34m,\u001b[0m \u001b[0mindexer\u001b[0m\u001b[0;34m,\u001b[0m \u001b[0mnew_indexer\u001b[0m \u001b[0;34m=\u001b[0m \u001b[0mself\u001b[0m\u001b[0;34m.\u001b[0m\u001b[0m_reindex_non_unique\u001b[0m\u001b[0;34m(\u001b[0m\u001b[0mkeyarr\u001b[0m\u001b[0;34m)\u001b[0m\u001b[0;34m\u001b[0m\u001b[0;34m\u001b[0m\u001b[0m\n\u001b[1;32m   5876\u001b[0m \u001b[0;34m\u001b[0m\u001b[0m\n\u001b[0;32m-> 5877\u001b[0;31m         \u001b[0mself\u001b[0m\u001b[0;34m.\u001b[0m\u001b[0m_raise_if_missing\u001b[0m\u001b[0;34m(\u001b[0m\u001b[0mkeyarr\u001b[0m\u001b[0;34m,\u001b[0m \u001b[0mindexer\u001b[0m\u001b[0;34m,\u001b[0m \u001b[0maxis_name\u001b[0m\u001b[0;34m)\u001b[0m\u001b[0;34m\u001b[0m\u001b[0;34m\u001b[0m\u001b[0m\n\u001b[0m\u001b[1;32m   5878\u001b[0m \u001b[0;34m\u001b[0m\u001b[0m\n\u001b[1;32m   5879\u001b[0m         \u001b[0mkeyarr\u001b[0m \u001b[0;34m=\u001b[0m \u001b[0mself\u001b[0m\u001b[0;34m.\u001b[0m\u001b[0mtake\u001b[0m\u001b[0;34m(\u001b[0m\u001b[0mindexer\u001b[0m\u001b[0;34m)\u001b[0m\u001b[0;34m\u001b[0m\u001b[0;34m\u001b[0m\u001b[0m\n",
            "\u001b[0;32m/usr/local/lib/python3.10/dist-packages/pandas/core/indexes/base.py\u001b[0m in \u001b[0;36m_raise_if_missing\u001b[0;34m(self, key, indexer, axis_name)\u001b[0m\n\u001b[1;32m   5939\u001b[0m \u001b[0;34m\u001b[0m\u001b[0m\n\u001b[1;32m   5940\u001b[0m             \u001b[0mnot_found\u001b[0m \u001b[0;34m=\u001b[0m \u001b[0mlist\u001b[0m\u001b[0;34m(\u001b[0m\u001b[0mensure_index\u001b[0m\u001b[0;34m(\u001b[0m\u001b[0mkey\u001b[0m\u001b[0;34m)\u001b[0m\u001b[0;34m[\u001b[0m\u001b[0mmissing_mask\u001b[0m\u001b[0;34m.\u001b[0m\u001b[0mnonzero\u001b[0m\u001b[0;34m(\u001b[0m\u001b[0;34m)\u001b[0m\u001b[0;34m[\u001b[0m\u001b[0;36m0\u001b[0m\u001b[0;34m]\u001b[0m\u001b[0;34m]\u001b[0m\u001b[0;34m.\u001b[0m\u001b[0munique\u001b[0m\u001b[0;34m(\u001b[0m\u001b[0;34m)\u001b[0m\u001b[0;34m)\u001b[0m\u001b[0;34m\u001b[0m\u001b[0;34m\u001b[0m\u001b[0m\n\u001b[0;32m-> 5941\u001b[0;31m             \u001b[0;32mraise\u001b[0m \u001b[0mKeyError\u001b[0m\u001b[0;34m(\u001b[0m\u001b[0;34mf\"{not_found} not in index\"\u001b[0m\u001b[0;34m)\u001b[0m\u001b[0;34m\u001b[0m\u001b[0;34m\u001b[0m\u001b[0m\n\u001b[0m\u001b[1;32m   5942\u001b[0m \u001b[0;34m\u001b[0m\u001b[0m\n\u001b[1;32m   5943\u001b[0m     \u001b[0;34m@\u001b[0m\u001b[0moverload\u001b[0m\u001b[0;34m\u001b[0m\u001b[0;34m\u001b[0m\u001b[0m\n",
            "\u001b[0;31mKeyError\u001b[0m: \"['decile_score', 'juv_misd_count', 'race'] not in index\""
          ]
        }
      ]
    },
    {
      "cell_type": "code",
      "source": [
        "X_test_subset = X_test[['id', 'age', 'juv_fel_count', 'juv_misd_count', 'is_recid', 'decile_score', 'juv_other_count', 'priors_count', 'v_score_text', 'is_violent_recid', 'race']].copy()\n",
        "\n",
        "X_test_subset_normalized = (X_test_subset - X_train[['id', 'age', 'juv_fel_count', 'juv_misd_count', 'is_recid', 'decile_score', 'juv_other_count', 'priors_count', 'v_score_text', 'is_violent_recid', 'race']].mean(axis=0)) / X_train[['id', 'age', 'juv_fel_count', 'juv_misd_count', 'is_recid', 'decile_score', 'juv_other_count', 'priors_count', 'v_score_text', 'is_violent_recid', 'race']].std(axis=0)\n",
        "\n",
        "# Predictions using the unfair model (Logistic Regression)\n",
        "unfair_predictions = unfair_model.predict(X_test_subset_normalized)\n",
        "\n",
        "# Accuracy of unfair model\n",
        "unfair_accuracy = accuracy_score(Y_test, unfair_predictions)\n",
        "\n",
        "print(\"Accuracy of unfair model:\", unfair_accuracy)\n"
      ],
      "metadata": {
        "colab": {
          "base_uri": "https://localhost:8080/",
          "height": 391
        },
        "id": "q3Fhrt9DwcR4",
        "outputId": "dab3c8be-fc81-4156-ca9e-148ae3a3f6db"
      },
      "execution_count": 15,
      "outputs": [
        {
          "output_type": "error",
          "ename": "KeyError",
          "evalue": "\"['juv_misd_count', 'decile_score', 'race'] not in index\"",
          "traceback": [
            "\u001b[0;31m---------------------------------------------------------------------------\u001b[0m",
            "\u001b[0;31mKeyError\u001b[0m                                  Traceback (most recent call last)",
            "\u001b[0;32m<ipython-input-15-93408c8a58c2>\u001b[0m in \u001b[0;36m<cell line: 2>\u001b[0;34m()\u001b[0m\n\u001b[1;32m      1\u001b[0m \u001b[0;31m# Select features for prediction\u001b[0m\u001b[0;34m\u001b[0m\u001b[0;34m\u001b[0m\u001b[0m\n\u001b[0;32m----> 2\u001b[0;31m \u001b[0mX_test_subset\u001b[0m \u001b[0;34m=\u001b[0m \u001b[0mX_test\u001b[0m\u001b[0;34m[\u001b[0m\u001b[0;34m[\u001b[0m\u001b[0;34m'id'\u001b[0m\u001b[0;34m,\u001b[0m \u001b[0;34m'age'\u001b[0m\u001b[0;34m,\u001b[0m \u001b[0;34m'juv_fel_count'\u001b[0m\u001b[0;34m,\u001b[0m \u001b[0;34m'juv_misd_count'\u001b[0m\u001b[0;34m,\u001b[0m \u001b[0;34m'is_recid'\u001b[0m\u001b[0;34m,\u001b[0m \u001b[0;34m'decile_score'\u001b[0m\u001b[0;34m,\u001b[0m \u001b[0;34m'juv_other_count'\u001b[0m\u001b[0;34m,\u001b[0m \u001b[0;34m'priors_count'\u001b[0m\u001b[0;34m,\u001b[0m \u001b[0;34m'v_score_text'\u001b[0m\u001b[0;34m,\u001b[0m \u001b[0;34m'is_violent_recid'\u001b[0m\u001b[0;34m,\u001b[0m \u001b[0;34m'race'\u001b[0m\u001b[0;34m]\u001b[0m\u001b[0;34m]\u001b[0m\u001b[0;34m.\u001b[0m\u001b[0mcopy\u001b[0m\u001b[0;34m(\u001b[0m\u001b[0;34m)\u001b[0m\u001b[0;34m\u001b[0m\u001b[0;34m\u001b[0m\u001b[0m\n\u001b[0m\u001b[1;32m      3\u001b[0m \u001b[0;34m\u001b[0m\u001b[0m\n\u001b[1;32m      4\u001b[0m \u001b[0;31m# Normalize the selected features\u001b[0m\u001b[0;34m\u001b[0m\u001b[0;34m\u001b[0m\u001b[0m\n\u001b[1;32m      5\u001b[0m \u001b[0mX_test_subset_normalized\u001b[0m \u001b[0;34m=\u001b[0m \u001b[0;34m(\u001b[0m\u001b[0mX_test_subset\u001b[0m \u001b[0;34m-\u001b[0m \u001b[0mX_train\u001b[0m\u001b[0;34m[\u001b[0m\u001b[0;34m[\u001b[0m\u001b[0;34m'id'\u001b[0m\u001b[0;34m,\u001b[0m \u001b[0;34m'age'\u001b[0m\u001b[0;34m,\u001b[0m \u001b[0;34m'juv_fel_count'\u001b[0m\u001b[0;34m,\u001b[0m \u001b[0;34m'juv_misd_count'\u001b[0m\u001b[0;34m,\u001b[0m \u001b[0;34m'is_recid'\u001b[0m\u001b[0;34m,\u001b[0m \u001b[0;34m'decile_score'\u001b[0m\u001b[0;34m,\u001b[0m \u001b[0;34m'juv_other_count'\u001b[0m\u001b[0;34m,\u001b[0m \u001b[0;34m'priors_count'\u001b[0m\u001b[0;34m,\u001b[0m \u001b[0;34m'v_score_text'\u001b[0m\u001b[0;34m,\u001b[0m \u001b[0;34m'is_violent_recid'\u001b[0m\u001b[0;34m,\u001b[0m \u001b[0;34m'race'\u001b[0m\u001b[0;34m]\u001b[0m\u001b[0;34m]\u001b[0m\u001b[0;34m.\u001b[0m\u001b[0mmean\u001b[0m\u001b[0;34m(\u001b[0m\u001b[0maxis\u001b[0m\u001b[0;34m=\u001b[0m\u001b[0;36m0\u001b[0m\u001b[0;34m)\u001b[0m\u001b[0;34m)\u001b[0m \u001b[0;34m/\u001b[0m \u001b[0mX_train\u001b[0m\u001b[0;34m[\u001b[0m\u001b[0;34m[\u001b[0m\u001b[0;34m'id'\u001b[0m\u001b[0;34m,\u001b[0m \u001b[0;34m'age'\u001b[0m\u001b[0;34m,\u001b[0m \u001b[0;34m'juv_fel_count'\u001b[0m\u001b[0;34m,\u001b[0m \u001b[0;34m'juv_misd_count'\u001b[0m\u001b[0;34m,\u001b[0m \u001b[0;34m'is_recid'\u001b[0m\u001b[0;34m,\u001b[0m \u001b[0;34m'decile_score'\u001b[0m\u001b[0;34m,\u001b[0m \u001b[0;34m'juv_other_count'\u001b[0m\u001b[0;34m,\u001b[0m \u001b[0;34m'priors_count'\u001b[0m\u001b[0;34m,\u001b[0m \u001b[0;34m'v_score_text'\u001b[0m\u001b[0;34m,\u001b[0m \u001b[0;34m'is_violent_recid'\u001b[0m\u001b[0;34m,\u001b[0m \u001b[0;34m'race'\u001b[0m\u001b[0;34m]\u001b[0m\u001b[0;34m]\u001b[0m\u001b[0;34m.\u001b[0m\u001b[0mstd\u001b[0m\u001b[0;34m(\u001b[0m\u001b[0maxis\u001b[0m\u001b[0;34m=\u001b[0m\u001b[0;36m0\u001b[0m\u001b[0;34m)\u001b[0m\u001b[0;34m\u001b[0m\u001b[0;34m\u001b[0m\u001b[0m\n",
            "\u001b[0;32m/usr/local/lib/python3.10/dist-packages/pandas/core/frame.py\u001b[0m in \u001b[0;36m__getitem__\u001b[0;34m(self, key)\u001b[0m\n\u001b[1;32m   3765\u001b[0m             \u001b[0;32mif\u001b[0m \u001b[0mis_iterator\u001b[0m\u001b[0;34m(\u001b[0m\u001b[0mkey\u001b[0m\u001b[0;34m)\u001b[0m\u001b[0;34m:\u001b[0m\u001b[0;34m\u001b[0m\u001b[0;34m\u001b[0m\u001b[0m\n\u001b[1;32m   3766\u001b[0m                 \u001b[0mkey\u001b[0m \u001b[0;34m=\u001b[0m \u001b[0mlist\u001b[0m\u001b[0;34m(\u001b[0m\u001b[0mkey\u001b[0m\u001b[0;34m)\u001b[0m\u001b[0;34m\u001b[0m\u001b[0;34m\u001b[0m\u001b[0m\n\u001b[0;32m-> 3767\u001b[0;31m             \u001b[0mindexer\u001b[0m \u001b[0;34m=\u001b[0m \u001b[0mself\u001b[0m\u001b[0;34m.\u001b[0m\u001b[0mcolumns\u001b[0m\u001b[0;34m.\u001b[0m\u001b[0m_get_indexer_strict\u001b[0m\u001b[0;34m(\u001b[0m\u001b[0mkey\u001b[0m\u001b[0;34m,\u001b[0m \u001b[0;34m\"columns\"\u001b[0m\u001b[0;34m)\u001b[0m\u001b[0;34m[\u001b[0m\u001b[0;36m1\u001b[0m\u001b[0;34m]\u001b[0m\u001b[0;34m\u001b[0m\u001b[0;34m\u001b[0m\u001b[0m\n\u001b[0m\u001b[1;32m   3768\u001b[0m \u001b[0;34m\u001b[0m\u001b[0m\n\u001b[1;32m   3769\u001b[0m         \u001b[0;31m# take() does not accept boolean indexers\u001b[0m\u001b[0;34m\u001b[0m\u001b[0;34m\u001b[0m\u001b[0m\n",
            "\u001b[0;32m/usr/local/lib/python3.10/dist-packages/pandas/core/indexes/base.py\u001b[0m in \u001b[0;36m_get_indexer_strict\u001b[0;34m(self, key, axis_name)\u001b[0m\n\u001b[1;32m   5875\u001b[0m             \u001b[0mkeyarr\u001b[0m\u001b[0;34m,\u001b[0m \u001b[0mindexer\u001b[0m\u001b[0;34m,\u001b[0m \u001b[0mnew_indexer\u001b[0m \u001b[0;34m=\u001b[0m \u001b[0mself\u001b[0m\u001b[0;34m.\u001b[0m\u001b[0m_reindex_non_unique\u001b[0m\u001b[0;34m(\u001b[0m\u001b[0mkeyarr\u001b[0m\u001b[0;34m)\u001b[0m\u001b[0;34m\u001b[0m\u001b[0;34m\u001b[0m\u001b[0m\n\u001b[1;32m   5876\u001b[0m \u001b[0;34m\u001b[0m\u001b[0m\n\u001b[0;32m-> 5877\u001b[0;31m         \u001b[0mself\u001b[0m\u001b[0;34m.\u001b[0m\u001b[0m_raise_if_missing\u001b[0m\u001b[0;34m(\u001b[0m\u001b[0mkeyarr\u001b[0m\u001b[0;34m,\u001b[0m \u001b[0mindexer\u001b[0m\u001b[0;34m,\u001b[0m \u001b[0maxis_name\u001b[0m\u001b[0;34m)\u001b[0m\u001b[0;34m\u001b[0m\u001b[0;34m\u001b[0m\u001b[0m\n\u001b[0m\u001b[1;32m   5878\u001b[0m \u001b[0;34m\u001b[0m\u001b[0m\n\u001b[1;32m   5879\u001b[0m         \u001b[0mkeyarr\u001b[0m \u001b[0;34m=\u001b[0m \u001b[0mself\u001b[0m\u001b[0;34m.\u001b[0m\u001b[0mtake\u001b[0m\u001b[0;34m(\u001b[0m\u001b[0mindexer\u001b[0m\u001b[0;34m)\u001b[0m\u001b[0;34m\u001b[0m\u001b[0;34m\u001b[0m\u001b[0m\n",
            "\u001b[0;32m/usr/local/lib/python3.10/dist-packages/pandas/core/indexes/base.py\u001b[0m in \u001b[0;36m_raise_if_missing\u001b[0;34m(self, key, indexer, axis_name)\u001b[0m\n\u001b[1;32m   5939\u001b[0m \u001b[0;34m\u001b[0m\u001b[0m\n\u001b[1;32m   5940\u001b[0m             \u001b[0mnot_found\u001b[0m \u001b[0;34m=\u001b[0m \u001b[0mlist\u001b[0m\u001b[0;34m(\u001b[0m\u001b[0mensure_index\u001b[0m\u001b[0;34m(\u001b[0m\u001b[0mkey\u001b[0m\u001b[0;34m)\u001b[0m\u001b[0;34m[\u001b[0m\u001b[0mmissing_mask\u001b[0m\u001b[0;34m.\u001b[0m\u001b[0mnonzero\u001b[0m\u001b[0;34m(\u001b[0m\u001b[0;34m)\u001b[0m\u001b[0;34m[\u001b[0m\u001b[0;36m0\u001b[0m\u001b[0;34m]\u001b[0m\u001b[0;34m]\u001b[0m\u001b[0;34m.\u001b[0m\u001b[0munique\u001b[0m\u001b[0;34m(\u001b[0m\u001b[0;34m)\u001b[0m\u001b[0;34m)\u001b[0m\u001b[0;34m\u001b[0m\u001b[0;34m\u001b[0m\u001b[0m\n\u001b[0;32m-> 5941\u001b[0;31m             \u001b[0;32mraise\u001b[0m \u001b[0mKeyError\u001b[0m\u001b[0;34m(\u001b[0m\u001b[0;34mf\"{not_found} not in index\"\u001b[0m\u001b[0;34m)\u001b[0m\u001b[0;34m\u001b[0m\u001b[0;34m\u001b[0m\u001b[0m\n\u001b[0m\u001b[1;32m   5942\u001b[0m \u001b[0;34m\u001b[0m\u001b[0m\n\u001b[1;32m   5943\u001b[0m     \u001b[0;34m@\u001b[0m\u001b[0moverload\u001b[0m\u001b[0;34m\u001b[0m\u001b[0;34m\u001b[0m\u001b[0m\n",
            "\u001b[0;31mKeyError\u001b[0m: \"['juv_misd_count', 'decile_score', 'race'] not in index\""
          ]
        }
      ]
    },
    {
      "cell_type": "code",
      "source": [
        "X_test_subset = X_test[['id', 'age', 'juv_fel_count', 'is_recid', 'juv_other_count', 'priors_count', 'v_score_text', 'is_violent_recid']].copy()\n",
        "\n",
        "X_test_subset_normalized = (X_test_subset - X_train[['id', 'age', 'juv_fel_count', 'is_recid', 'juv_other_count', 'priors_count', 'v_score_text', 'is_violent_recid']].mean(axis=0)) / X_train[['id', 'age', 'juv_fel_count', 'is_recid', 'juv_other_count', 'priors_count', 'v_score_text', 'is_violent_recid']].std(axis=0)\n",
        "\n",
        "unfair_predictions = unfair_model.predict(X_test_subset_normalized)\n",
        "#unfair_predictions = unfair_model.predict(X_test)\n",
        "\n",
        "unfair_accuracy = accuracy_score(Y_test, unfair_predictions)\n",
        "print(\"Accuracy of unfair model:\", unfair_accuracy)\n"
      ],
      "metadata": {
        "colab": {
          "base_uri": "https://localhost:8080/",
          "height": 483
        },
        "id": "j_bCPWrNvaBN",
        "outputId": "a837b90a-c58b-40f5-a557-b730b7a383b8"
      },
      "execution_count": 14,
      "outputs": [
        {
          "output_type": "error",
          "ename": "ValueError",
          "evalue": "The feature names should match those that were passed during fit.\nFeature names unseen at fit time:\n- is_recid\nFeature names seen at fit time, yet now missing:\n- decile_score\n- juv_misd_count\n- race\n",
          "traceback": [
            "\u001b[0;31m---------------------------------------------------------------------------\u001b[0m",
            "\u001b[0;31mValueError\u001b[0m                                Traceback (most recent call last)",
            "\u001b[0;32m<ipython-input-14-8b2c6deec9d9>\u001b[0m in \u001b[0;36m<cell line: 9>\u001b[0;34m()\u001b[0m\n\u001b[1;32m      7\u001b[0m \u001b[0;34m\u001b[0m\u001b[0m\n\u001b[1;32m      8\u001b[0m \u001b[0;31m# Predictions using the unfair model (Logistic Regression)\u001b[0m\u001b[0;34m\u001b[0m\u001b[0;34m\u001b[0m\u001b[0m\n\u001b[0;32m----> 9\u001b[0;31m \u001b[0munfair_predictions\u001b[0m \u001b[0;34m=\u001b[0m \u001b[0munfair_model\u001b[0m\u001b[0;34m.\u001b[0m\u001b[0mpredict\u001b[0m\u001b[0;34m(\u001b[0m\u001b[0mX_test_subset_normalized\u001b[0m\u001b[0;34m)\u001b[0m\u001b[0;34m\u001b[0m\u001b[0;34m\u001b[0m\u001b[0m\n\u001b[0m\u001b[1;32m     10\u001b[0m \u001b[0;34m\u001b[0m\u001b[0m\n\u001b[1;32m     11\u001b[0m \u001b[0;31m#unfair_predictions = unfair_model.predict(X_test)\u001b[0m\u001b[0;34m\u001b[0m\u001b[0;34m\u001b[0m\u001b[0m\n",
            "\u001b[0;32m/usr/local/lib/python3.10/dist-packages/sklearn/linear_model/_base.py\u001b[0m in \u001b[0;36mpredict\u001b[0;34m(self, X)\u001b[0m\n\u001b[1;32m    417\u001b[0m         \"\"\"\n\u001b[1;32m    418\u001b[0m         \u001b[0mxp\u001b[0m\u001b[0;34m,\u001b[0m \u001b[0m_\u001b[0m \u001b[0;34m=\u001b[0m \u001b[0mget_namespace\u001b[0m\u001b[0;34m(\u001b[0m\u001b[0mX\u001b[0m\u001b[0;34m)\u001b[0m\u001b[0;34m\u001b[0m\u001b[0;34m\u001b[0m\u001b[0m\n\u001b[0;32m--> 419\u001b[0;31m         \u001b[0mscores\u001b[0m \u001b[0;34m=\u001b[0m \u001b[0mself\u001b[0m\u001b[0;34m.\u001b[0m\u001b[0mdecision_function\u001b[0m\u001b[0;34m(\u001b[0m\u001b[0mX\u001b[0m\u001b[0;34m)\u001b[0m\u001b[0;34m\u001b[0m\u001b[0;34m\u001b[0m\u001b[0m\n\u001b[0m\u001b[1;32m    420\u001b[0m         \u001b[0;32mif\u001b[0m \u001b[0mlen\u001b[0m\u001b[0;34m(\u001b[0m\u001b[0mscores\u001b[0m\u001b[0;34m.\u001b[0m\u001b[0mshape\u001b[0m\u001b[0;34m)\u001b[0m \u001b[0;34m==\u001b[0m \u001b[0;36m1\u001b[0m\u001b[0;34m:\u001b[0m\u001b[0;34m\u001b[0m\u001b[0;34m\u001b[0m\u001b[0m\n\u001b[1;32m    421\u001b[0m             \u001b[0mindices\u001b[0m \u001b[0;34m=\u001b[0m \u001b[0mxp\u001b[0m\u001b[0;34m.\u001b[0m\u001b[0mastype\u001b[0m\u001b[0;34m(\u001b[0m\u001b[0mscores\u001b[0m \u001b[0;34m>\u001b[0m \u001b[0;36m0\u001b[0m\u001b[0;34m,\u001b[0m \u001b[0mint\u001b[0m\u001b[0;34m)\u001b[0m\u001b[0;34m\u001b[0m\u001b[0;34m\u001b[0m\u001b[0m\n",
            "\u001b[0;32m/usr/local/lib/python3.10/dist-packages/sklearn/linear_model/_base.py\u001b[0m in \u001b[0;36mdecision_function\u001b[0;34m(self, X)\u001b[0m\n\u001b[1;32m    398\u001b[0m         \u001b[0mxp\u001b[0m\u001b[0;34m,\u001b[0m \u001b[0m_\u001b[0m \u001b[0;34m=\u001b[0m \u001b[0mget_namespace\u001b[0m\u001b[0;34m(\u001b[0m\u001b[0mX\u001b[0m\u001b[0;34m)\u001b[0m\u001b[0;34m\u001b[0m\u001b[0;34m\u001b[0m\u001b[0m\n\u001b[1;32m    399\u001b[0m \u001b[0;34m\u001b[0m\u001b[0m\n\u001b[0;32m--> 400\u001b[0;31m         \u001b[0mX\u001b[0m \u001b[0;34m=\u001b[0m \u001b[0mself\u001b[0m\u001b[0;34m.\u001b[0m\u001b[0m_validate_data\u001b[0m\u001b[0;34m(\u001b[0m\u001b[0mX\u001b[0m\u001b[0;34m,\u001b[0m \u001b[0maccept_sparse\u001b[0m\u001b[0;34m=\u001b[0m\u001b[0;34m\"csr\"\u001b[0m\u001b[0;34m,\u001b[0m \u001b[0mreset\u001b[0m\u001b[0;34m=\u001b[0m\u001b[0;32mFalse\u001b[0m\u001b[0;34m)\u001b[0m\u001b[0;34m\u001b[0m\u001b[0;34m\u001b[0m\u001b[0m\n\u001b[0m\u001b[1;32m    401\u001b[0m         \u001b[0mscores\u001b[0m \u001b[0;34m=\u001b[0m \u001b[0msafe_sparse_dot\u001b[0m\u001b[0;34m(\u001b[0m\u001b[0mX\u001b[0m\u001b[0;34m,\u001b[0m \u001b[0mself\u001b[0m\u001b[0;34m.\u001b[0m\u001b[0mcoef_\u001b[0m\u001b[0;34m.\u001b[0m\u001b[0mT\u001b[0m\u001b[0;34m,\u001b[0m \u001b[0mdense_output\u001b[0m\u001b[0;34m=\u001b[0m\u001b[0;32mTrue\u001b[0m\u001b[0;34m)\u001b[0m \u001b[0;34m+\u001b[0m \u001b[0mself\u001b[0m\u001b[0;34m.\u001b[0m\u001b[0mintercept_\u001b[0m\u001b[0;34m\u001b[0m\u001b[0;34m\u001b[0m\u001b[0m\n\u001b[1;32m    402\u001b[0m         \u001b[0;32mreturn\u001b[0m \u001b[0mxp\u001b[0m\u001b[0;34m.\u001b[0m\u001b[0mreshape\u001b[0m\u001b[0;34m(\u001b[0m\u001b[0mscores\u001b[0m\u001b[0;34m,\u001b[0m \u001b[0;34m-\u001b[0m\u001b[0;36m1\u001b[0m\u001b[0;34m)\u001b[0m \u001b[0;32mif\u001b[0m \u001b[0mscores\u001b[0m\u001b[0;34m.\u001b[0m\u001b[0mshape\u001b[0m\u001b[0;34m[\u001b[0m\u001b[0;36m1\u001b[0m\u001b[0;34m]\u001b[0m \u001b[0;34m==\u001b[0m \u001b[0;36m1\u001b[0m \u001b[0;32melse\u001b[0m \u001b[0mscores\u001b[0m\u001b[0;34m\u001b[0m\u001b[0;34m\u001b[0m\u001b[0m\n",
            "\u001b[0;32m/usr/local/lib/python3.10/dist-packages/sklearn/base.py\u001b[0m in \u001b[0;36m_validate_data\u001b[0;34m(self, X, y, reset, validate_separately, **check_params)\u001b[0m\n\u001b[1;32m    546\u001b[0m             \u001b[0mvalidated\u001b[0m\u001b[0;34m.\u001b[0m\u001b[0;34m\u001b[0m\u001b[0;34m\u001b[0m\u001b[0m\n\u001b[1;32m    547\u001b[0m         \"\"\"\n\u001b[0;32m--> 548\u001b[0;31m         \u001b[0mself\u001b[0m\u001b[0;34m.\u001b[0m\u001b[0m_check_feature_names\u001b[0m\u001b[0;34m(\u001b[0m\u001b[0mX\u001b[0m\u001b[0;34m,\u001b[0m \u001b[0mreset\u001b[0m\u001b[0;34m=\u001b[0m\u001b[0mreset\u001b[0m\u001b[0;34m)\u001b[0m\u001b[0;34m\u001b[0m\u001b[0;34m\u001b[0m\u001b[0m\n\u001b[0m\u001b[1;32m    549\u001b[0m \u001b[0;34m\u001b[0m\u001b[0m\n\u001b[1;32m    550\u001b[0m         \u001b[0;32mif\u001b[0m \u001b[0my\u001b[0m \u001b[0;32mis\u001b[0m \u001b[0;32mNone\u001b[0m \u001b[0;32mand\u001b[0m \u001b[0mself\u001b[0m\u001b[0;34m.\u001b[0m\u001b[0m_get_tags\u001b[0m\u001b[0;34m(\u001b[0m\u001b[0;34m)\u001b[0m\u001b[0;34m[\u001b[0m\u001b[0;34m\"requires_y\"\u001b[0m\u001b[0;34m]\u001b[0m\u001b[0;34m:\u001b[0m\u001b[0;34m\u001b[0m\u001b[0;34m\u001b[0m\u001b[0m\n",
            "\u001b[0;32m/usr/local/lib/python3.10/dist-packages/sklearn/base.py\u001b[0m in \u001b[0;36m_check_feature_names\u001b[0;34m(self, X, reset)\u001b[0m\n\u001b[1;32m    479\u001b[0m                 )\n\u001b[1;32m    480\u001b[0m \u001b[0;34m\u001b[0m\u001b[0m\n\u001b[0;32m--> 481\u001b[0;31m             \u001b[0;32mraise\u001b[0m \u001b[0mValueError\u001b[0m\u001b[0;34m(\u001b[0m\u001b[0mmessage\u001b[0m\u001b[0;34m)\u001b[0m\u001b[0;34m\u001b[0m\u001b[0;34m\u001b[0m\u001b[0m\n\u001b[0m\u001b[1;32m    482\u001b[0m \u001b[0;34m\u001b[0m\u001b[0m\n\u001b[1;32m    483\u001b[0m     def _validate_data(\n",
            "\u001b[0;31mValueError\u001b[0m: The feature names should match those that were passed during fit.\nFeature names unseen at fit time:\n- is_recid\nFeature names seen at fit time, yet now missing:\n- decile_score\n- juv_misd_count\n- race\n"
          ]
        }
      ]
    },
    {
      "cell_type": "code",
      "source": [],
      "metadata": {
        "id": "QMsjv1lWvZ9e"
      },
      "execution_count": null,
      "outputs": []
    },
    {
      "cell_type": "code",
      "source": [],
      "metadata": {
        "id": "YK7CJBrAvZyc"
      },
      "execution_count": null,
      "outputs": []
    },
    {
      "cell_type": "code",
      "source": [
        "\n",
        "####Rishabh####\n",
        "\n",
        "evaluation = model.evaluate(X_test_normalized, Y_test)\n",
        "print(evaluation)\n",
        "privX_train, privX_test, privY_train, privY_test = train_test_split(priv,priv_pred, test_size=0.5, random_state=42)\n",
        "unprivX_train, unprivX_test, unprivY_train, unprivY_test = train_test_split(unpriv,unpriv_pred, test_size=0.5, random_state=42)\n",
        "privX_test_normalized = (privX_test - privX_test.mean(axis=0)) / privX_test.std(axis=0)\n",
        "unprivX_test_normalized = (unprivX_test - unprivX_test.mean(axis=0)) / unprivX_test.std(axis=0)\n",
        "# print(\"NaN values in Y_train:\", np.any(np.isnan(privX_test)))\n",
        "# print(\"NaN values in Y_test:\", np.any(np.isnan(privY_test)))\n",
        "priv_loss, priv_accuracy = model.evaluate(privX_test, privY_test)\n",
        "print(\"Privileged Data Loss:\", priv_loss)\n",
        "print(\"Privileged Data Accuracy:\", priv_accuracy)\n",
        "\n",
        "unpriv_loss, unpriv_accuracy = model.evaluate(unprivX_test, unprivY_test)\n",
        "print(\"Unprivileged Data Loss:\", unpriv_loss)\n",
        "print(\"Unprivileged Data Accuracy:\", unpriv_accuracy)"
      ],
      "metadata": {
        "colab": {
          "base_uri": "https://localhost:8080/",
          "height": 685
        },
        "id": "Px3BC9TdujCs",
        "outputId": "284efd9c-28a5-4880-8f5f-2b5c09baf861"
      },
      "execution_count": 7,
      "outputs": [
        {
          "output_type": "stream",
          "name": "stdout",
          "text": [
            "20/20 [==============================] - 0s 2ms/step - loss: 0.0185 - accuracy: 0.6813\n",
            "[0.018549500033259392, 0.6813008189201355]\n"
          ]
        },
        {
          "output_type": "error",
          "ename": "ValueError",
          "evalue": "in user code:\n\n    File \"/usr/local/lib/python3.10/dist-packages/keras/src/engine/training.py\", line 2066, in test_function  *\n        return step_function(self, iterator)\n    File \"/usr/local/lib/python3.10/dist-packages/keras/src/engine/training.py\", line 2049, in step_function  **\n        outputs = model.distribute_strategy.run(run_step, args=(data,))\n    File \"/usr/local/lib/python3.10/dist-packages/keras/src/engine/training.py\", line 2037, in run_step  **\n        outputs = model.test_step(data)\n    File \"/usr/local/lib/python3.10/dist-packages/keras/src/engine/training.py\", line 1917, in test_step\n        y_pred = self(x, training=False)\n    File \"/usr/local/lib/python3.10/dist-packages/keras/src/utils/traceback_utils.py\", line 70, in error_handler\n        raise e.with_traceback(filtered_tb) from None\n    File \"/usr/local/lib/python3.10/dist-packages/keras/src/engine/input_spec.py\", line 298, in assert_input_compatibility\n        raise ValueError(\n\n    ValueError: Input 0 of layer \"sequential\" is incompatible with the layer: expected shape=(None, 8), found shape=(None, 10)\n",
          "traceback": [
            "\u001b[0;31m---------------------------------------------------------------------------\u001b[0m",
            "\u001b[0;31mValueError\u001b[0m                                Traceback (most recent call last)",
            "\u001b[0;32m<ipython-input-7-096d0f570871>\u001b[0m in \u001b[0;36m<cell line: 9>\u001b[0;34m()\u001b[0m\n\u001b[1;32m      7\u001b[0m \u001b[0;31m# print(\"NaN values in Y_train:\", np.any(np.isnan(privX_test)))\u001b[0m\u001b[0;34m\u001b[0m\u001b[0;34m\u001b[0m\u001b[0m\n\u001b[1;32m      8\u001b[0m \u001b[0;31m# print(\"NaN values in Y_test:\", np.any(np.isnan(privY_test)))\u001b[0m\u001b[0;34m\u001b[0m\u001b[0;34m\u001b[0m\u001b[0m\n\u001b[0;32m----> 9\u001b[0;31m \u001b[0mpriv_loss\u001b[0m\u001b[0;34m,\u001b[0m \u001b[0mpriv_accuracy\u001b[0m \u001b[0;34m=\u001b[0m \u001b[0mmodel\u001b[0m\u001b[0;34m.\u001b[0m\u001b[0mevaluate\u001b[0m\u001b[0;34m(\u001b[0m\u001b[0mprivX_test\u001b[0m\u001b[0;34m,\u001b[0m \u001b[0mprivY_test\u001b[0m\u001b[0;34m)\u001b[0m\u001b[0;34m\u001b[0m\u001b[0;34m\u001b[0m\u001b[0m\n\u001b[0m\u001b[1;32m     10\u001b[0m \u001b[0mprint\u001b[0m\u001b[0;34m(\u001b[0m\u001b[0;34m\"Privileged Data Loss:\"\u001b[0m\u001b[0;34m,\u001b[0m \u001b[0mpriv_loss\u001b[0m\u001b[0;34m)\u001b[0m\u001b[0;34m\u001b[0m\u001b[0;34m\u001b[0m\u001b[0m\n\u001b[1;32m     11\u001b[0m \u001b[0mprint\u001b[0m\u001b[0;34m(\u001b[0m\u001b[0;34m\"Privileged Data Accuracy:\"\u001b[0m\u001b[0;34m,\u001b[0m \u001b[0mpriv_accuracy\u001b[0m\u001b[0;34m)\u001b[0m\u001b[0;34m\u001b[0m\u001b[0;34m\u001b[0m\u001b[0m\n",
            "\u001b[0;32m/usr/local/lib/python3.10/dist-packages/keras/src/utils/traceback_utils.py\u001b[0m in \u001b[0;36merror_handler\u001b[0;34m(*args, **kwargs)\u001b[0m\n\u001b[1;32m     68\u001b[0m             \u001b[0;31m# To get the full stack trace, call:\u001b[0m\u001b[0;34m\u001b[0m\u001b[0;34m\u001b[0m\u001b[0m\n\u001b[1;32m     69\u001b[0m             \u001b[0;31m# `tf.debugging.disable_traceback_filtering()`\u001b[0m\u001b[0;34m\u001b[0m\u001b[0;34m\u001b[0m\u001b[0m\n\u001b[0;32m---> 70\u001b[0;31m             \u001b[0;32mraise\u001b[0m \u001b[0me\u001b[0m\u001b[0;34m.\u001b[0m\u001b[0mwith_traceback\u001b[0m\u001b[0;34m(\u001b[0m\u001b[0mfiltered_tb\u001b[0m\u001b[0;34m)\u001b[0m \u001b[0;32mfrom\u001b[0m \u001b[0;32mNone\u001b[0m\u001b[0;34m\u001b[0m\u001b[0;34m\u001b[0m\u001b[0m\n\u001b[0m\u001b[1;32m     71\u001b[0m         \u001b[0;32mfinally\u001b[0m\u001b[0;34m:\u001b[0m\u001b[0;34m\u001b[0m\u001b[0;34m\u001b[0m\u001b[0m\n\u001b[1;32m     72\u001b[0m             \u001b[0;32mdel\u001b[0m \u001b[0mfiltered_tb\u001b[0m\u001b[0;34m\u001b[0m\u001b[0;34m\u001b[0m\u001b[0m\n",
            "\u001b[0;32m/usr/local/lib/python3.10/dist-packages/keras/src/engine/training.py\u001b[0m in \u001b[0;36mtf__test_function\u001b[0;34m(iterator)\u001b[0m\n\u001b[1;32m     13\u001b[0m                 \u001b[0;32mtry\u001b[0m\u001b[0;34m:\u001b[0m\u001b[0;34m\u001b[0m\u001b[0;34m\u001b[0m\u001b[0m\n\u001b[1;32m     14\u001b[0m                     \u001b[0mdo_return\u001b[0m \u001b[0;34m=\u001b[0m \u001b[0;32mTrue\u001b[0m\u001b[0;34m\u001b[0m\u001b[0;34m\u001b[0m\u001b[0m\n\u001b[0;32m---> 15\u001b[0;31m                     \u001b[0mretval_\u001b[0m \u001b[0;34m=\u001b[0m \u001b[0mag__\u001b[0m\u001b[0;34m.\u001b[0m\u001b[0mconverted_call\u001b[0m\u001b[0;34m(\u001b[0m\u001b[0mag__\u001b[0m\u001b[0;34m.\u001b[0m\u001b[0mld\u001b[0m\u001b[0;34m(\u001b[0m\u001b[0mstep_function\u001b[0m\u001b[0;34m)\u001b[0m\u001b[0;34m,\u001b[0m \u001b[0;34m(\u001b[0m\u001b[0mag__\u001b[0m\u001b[0;34m.\u001b[0m\u001b[0mld\u001b[0m\u001b[0;34m(\u001b[0m\u001b[0mself\u001b[0m\u001b[0;34m)\u001b[0m\u001b[0;34m,\u001b[0m \u001b[0mag__\u001b[0m\u001b[0;34m.\u001b[0m\u001b[0mld\u001b[0m\u001b[0;34m(\u001b[0m\u001b[0miterator\u001b[0m\u001b[0;34m)\u001b[0m\u001b[0;34m)\u001b[0m\u001b[0;34m,\u001b[0m \u001b[0;32mNone\u001b[0m\u001b[0;34m,\u001b[0m \u001b[0mfscope\u001b[0m\u001b[0;34m)\u001b[0m\u001b[0;34m\u001b[0m\u001b[0;34m\u001b[0m\u001b[0m\n\u001b[0m\u001b[1;32m     16\u001b[0m                 \u001b[0;32mexcept\u001b[0m\u001b[0;34m:\u001b[0m\u001b[0;34m\u001b[0m\u001b[0;34m\u001b[0m\u001b[0m\n\u001b[1;32m     17\u001b[0m                     \u001b[0mdo_return\u001b[0m \u001b[0;34m=\u001b[0m \u001b[0;32mFalse\u001b[0m\u001b[0;34m\u001b[0m\u001b[0;34m\u001b[0m\u001b[0m\n",
            "\u001b[0;31mValueError\u001b[0m: in user code:\n\n    File \"/usr/local/lib/python3.10/dist-packages/keras/src/engine/training.py\", line 2066, in test_function  *\n        return step_function(self, iterator)\n    File \"/usr/local/lib/python3.10/dist-packages/keras/src/engine/training.py\", line 2049, in step_function  **\n        outputs = model.distribute_strategy.run(run_step, args=(data,))\n    File \"/usr/local/lib/python3.10/dist-packages/keras/src/engine/training.py\", line 2037, in run_step  **\n        outputs = model.test_step(data)\n    File \"/usr/local/lib/python3.10/dist-packages/keras/src/engine/training.py\", line 1917, in test_step\n        y_pred = self(x, training=False)\n    File \"/usr/local/lib/python3.10/dist-packages/keras/src/utils/traceback_utils.py\", line 70, in error_handler\n        raise e.with_traceback(filtered_tb) from None\n    File \"/usr/local/lib/python3.10/dist-packages/keras/src/engine/input_spec.py\", line 298, in assert_input_compatibility\n        raise ValueError(\n\n    ValueError: Input 0 of layer \"sequential\" is incompatible with the layer: expected shape=(None, 8), found shape=(None, 10)\n"
          ]
        }
      ]
    }
  ]
}